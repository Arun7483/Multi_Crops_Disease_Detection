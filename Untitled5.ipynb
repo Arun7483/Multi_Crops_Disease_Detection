{
 "cells": [
  {
   "cell_type": "code",
   "execution_count": 1,
   "id": "11a6f155-146f-4037-8e52-0e273ae488b7",
   "metadata": {},
   "outputs": [],
   "source": [
    "import datetime\n",
    "import calendar\n",
    "from collections import defaultdict\n"
   ]
  },
  {
   "cell_type": "code",
   "execution_count": 2,
   "id": "269e48d1-da03-4e1f-9e5f-d6268cd98af8",
   "metadata": {},
   "outputs": [],
   "source": [
    "grouped_items = defaultdict(lambda: {\"qty\": 0, \"amount\": 0.0})\n"
   ]
  },
  {
   "cell_type": "code",
   "execution_count": null,
   "id": "0a1a3ed7-6ee6-49dd-899f-986bfb2b372e",
   "metadata": {},
   "outputs": [],
   "source": []
  }
 ],
 "metadata": {
  "kernelspec": {
   "display_name": "Python 3 (ipykernel)",
   "language": "python",
   "name": "python3"
  },
  "language_info": {
   "codemirror_mode": {
    "name": "ipython",
    "version": 3
   },
   "file_extension": ".py",
   "mimetype": "text/x-python",
   "name": "python",
   "nbconvert_exporter": "python",
   "pygments_lexer": "ipython3",
   "version": "3.13.2"
  }
 },
 "nbformat": 4,
 "nbformat_minor": 5
}
